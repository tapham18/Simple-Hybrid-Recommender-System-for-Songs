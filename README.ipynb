# song-recommender

#Import necessary modules/packages for the tasks

import numpy as np 
import pandas as pd
import matplotlib.pyplot as plt
import nltk
nltk.download('vader_lexicon')
from nltk.sentiment.vader import SentimentIntensityAnalyzer
from sklearn.feature_extraction.text import TfidfVectorizer
