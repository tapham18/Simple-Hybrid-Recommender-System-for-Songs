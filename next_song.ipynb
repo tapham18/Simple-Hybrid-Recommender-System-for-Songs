{
 "cells": [
  {
   "cell_type": "code",
   "execution_count": 175,
   "metadata": {},
   "outputs": [],
   "source": [
    "import numpy as np\n",
    "import pandas as pd"
   ]
  },
  {
   "cell_type": "code",
   "execution_count": 176,
   "metadata": {},
   "outputs": [
    {
     "data": {
      "text/html": [
       "<div>\n",
       "<style>\n",
       "    .dataframe thead tr:only-child th {\n",
       "        text-align: right;\n",
       "    }\n",
       "\n",
       "    .dataframe thead th {\n",
       "        text-align: left;\n",
       "    }\n",
       "\n",
       "    .dataframe tbody tr th {\n",
       "        vertical-align: top;\n",
       "    }\n",
       "</style>\n",
       "<table border=\"1\" class=\"dataframe\">\n",
       "  <thead>\n",
       "    <tr style=\"text-align: right;\">\n",
       "      <th></th>\n",
       "      <th>user_id</th>\n",
       "      <th>song_played</th>\n",
       "    </tr>\n",
       "  </thead>\n",
       "  <tbody>\n",
       "    <tr>\n",
       "      <th>1952</th>\n",
       "      <td>1</td>\n",
       "      <td>Yesterday</td>\n",
       "    </tr>\n",
       "    <tr>\n",
       "      <th>619</th>\n",
       "      <td>1</td>\n",
       "      <td>While My Guitar Gently Weeps</td>\n",
       "    </tr>\n",
       "    <tr>\n",
       "      <th>2719</th>\n",
       "      <td>1</td>\n",
       "      <td>The Long And Winding Road</td>\n",
       "    </tr>\n",
       "    <tr>\n",
       "      <th>669</th>\n",
       "      <td>1</td>\n",
       "      <td>Reprise / Day in the Life</td>\n",
       "    </tr>\n",
       "    <tr>\n",
       "      <th>353</th>\n",
       "      <td>1</td>\n",
       "      <td>I Feel Fine</td>\n",
       "    </tr>\n",
       "    <tr>\n",
       "      <th>993</th>\n",
       "      <td>1</td>\n",
       "      <td>Hello Goodbye</td>\n",
       "    </tr>\n",
       "    <tr>\n",
       "      <th>627</th>\n",
       "      <td>1</td>\n",
       "      <td>Here Comes The Sun</td>\n",
       "    </tr>\n",
       "    <tr>\n",
       "      <th>1373</th>\n",
       "      <td>1</td>\n",
       "      <td>Can't Buy Me Love</td>\n",
       "    </tr>\n",
       "    <tr>\n",
       "      <th>1563</th>\n",
       "      <td>1</td>\n",
       "      <td>Birthday</td>\n",
       "    </tr>\n",
       "    <tr>\n",
       "      <th>3172</th>\n",
       "      <td>1</td>\n",
       "      <td>Here Comes The Sun</td>\n",
       "    </tr>\n",
       "  </tbody>\n",
       "</table>\n",
       "</div>"
      ],
      "text/plain": [
       "      user_id                   song_played\n",
       "1952        1                     Yesterday\n",
       "619         1  While My Guitar Gently Weeps\n",
       "2719        1     The Long And Winding Road\n",
       "669         1     Reprise / Day in the Life\n",
       "353         1                   I Feel Fine\n",
       "993         1                 Hello Goodbye\n",
       "627         1            Here Comes The Sun\n",
       "1373        1             Can't Buy Me Love\n",
       "1563        1                      Birthday\n",
       "3172        1            Here Comes The Sun"
      ]
     },
     "execution_count": 176,
     "metadata": {},
     "output_type": "execute_result"
    }
   ],
   "source": [
    "#Convert json to pandas frame for easier manipulation. Sort user_id and time_played values to get songs played ordered in time:\n",
    "song = pd.read_json('song.json').sort_values(['user_id', 'time_played'])[['user_id','song_played']]\n",
    "song.head(10)"
   ]
  },
  {
   "cell_type": "code",
   "execution_count": 183,
   "metadata": {},
   "outputs": [
    {
     "data": {
      "text/html": [
       "<div>\n",
       "<style>\n",
       "    .dataframe thead tr:only-child th {\n",
       "        text-align: right;\n",
       "    }\n",
       "\n",
       "    .dataframe thead th {\n",
       "        text-align: left;\n",
       "    }\n",
       "\n",
       "    .dataframe tbody tr th {\n",
       "        vertical-align: top;\n",
       "    }\n",
       "</style>\n",
       "<table border=\"1\" class=\"dataframe\">\n",
       "  <thead>\n",
       "    <tr style=\"text-align: right;\">\n",
       "      <th></th>\n",
       "      <th>user_id</th>\n",
       "      <th>song_played</th>\n",
       "      <th>next_song</th>\n",
       "    </tr>\n",
       "  </thead>\n",
       "  <tbody>\n",
       "    <tr>\n",
       "      <th>1952</th>\n",
       "      <td>1</td>\n",
       "      <td>Yesterday</td>\n",
       "      <td>While My Guitar Gently Weeps</td>\n",
       "    </tr>\n",
       "    <tr>\n",
       "      <th>619</th>\n",
       "      <td>1</td>\n",
       "      <td>While My Guitar Gently Weeps</td>\n",
       "      <td>The Long And Winding Road</td>\n",
       "    </tr>\n",
       "    <tr>\n",
       "      <th>2719</th>\n",
       "      <td>1</td>\n",
       "      <td>The Long And Winding Road</td>\n",
       "      <td>Reprise / Day in the Life</td>\n",
       "    </tr>\n",
       "  </tbody>\n",
       "</table>\n",
       "</div>"
      ],
      "text/plain": [
       "      user_id                   song_played                     next_song\n",
       "1952        1                     Yesterday  While My Guitar Gently Weeps\n",
       "619         1  While My Guitar Gently Weeps     The Long And Winding Road\n",
       "2719        1     The Long And Winding Road     Reprise / Day in the Life"
      ]
     },
     "execution_count": 183,
     "metadata": {},
     "output_type": "execute_result"
    }
   ],
   "source": [
    "# To get next song played from song played already arranged in time order, shift the song_played columns up by 1 row:\n",
    "song['next_song'] = song.groupby(['user_id'])['song_played'].shift(-1)\n",
    "song.head(3)"
   ]
  },
  {
   "cell_type": "code",
   "execution_count": 185,
   "metadata": {},
   "outputs": [
    {
     "data": {
      "text/html": [
       "<div>\n",
       "<style>\n",
       "    .dataframe thead tr:only-child th {\n",
       "        text-align: right;\n",
       "    }\n",
       "\n",
       "    .dataframe thead th {\n",
       "        text-align: left;\n",
       "    }\n",
       "\n",
       "    .dataframe tbody tr th {\n",
       "        vertical-align: top;\n",
       "    }\n",
       "</style>\n",
       "<table border=\"1\" class=\"dataframe\">\n",
       "  <thead>\n",
       "    <tr style=\"text-align: right;\">\n",
       "      <th></th>\n",
       "      <th>song_played</th>\n",
       "      <th>next_song</th>\n",
       "      <th>value_counts</th>\n",
       "    </tr>\n",
       "  </thead>\n",
       "  <tbody>\n",
       "    <tr>\n",
       "      <th>0</th>\n",
       "      <td>A Day In The Life</td>\n",
       "      <td>Come Together</td>\n",
       "      <td>16</td>\n",
       "    </tr>\n",
       "    <tr>\n",
       "      <th>1</th>\n",
       "      <td>A Day In The Life</td>\n",
       "      <td>Revolution</td>\n",
       "      <td>15</td>\n",
       "    </tr>\n",
       "    <tr>\n",
       "      <th>2</th>\n",
       "      <td>A Day In The Life</td>\n",
       "      <td>Get Back</td>\n",
       "      <td>12</td>\n",
       "    </tr>\n",
       "  </tbody>\n",
       "</table>\n",
       "</div>"
      ],
      "text/plain": [
       "         song_played      next_song  value_counts\n",
       "0  A Day In The Life  Come Together            16\n",
       "1  A Day In The Life     Revolution            15\n",
       "2  A Day In The Life       Get Back            12"
      ]
     },
     "execution_count": 185,
     "metadata": {},
     "output_type": "execute_result"
    }
   ],
   "source": [
    "# Find the value counts of next song by each song_played group:\n",
    "song_1 = song.groupby(['song_played'])['next_song'].agg(['value_counts']).reset_index()\n",
    "song_1.head(3)"
   ]
  },
  {
   "cell_type": "code",
   "execution_count": 187,
   "metadata": {},
   "outputs": [
    {
     "data": {
      "text/html": [
       "<div>\n",
       "<style>\n",
       "    .dataframe thead tr:only-child th {\n",
       "        text-align: right;\n",
       "    }\n",
       "\n",
       "    .dataframe thead th {\n",
       "        text-align: left;\n",
       "    }\n",
       "\n",
       "    .dataframe tbody tr th {\n",
       "        vertical-align: top;\n",
       "    }\n",
       "</style>\n",
       "<table border=\"1\" class=\"dataframe\">\n",
       "  <thead>\n",
       "    <tr style=\"text-align: right;\">\n",
       "      <th></th>\n",
       "      <th>song_played</th>\n",
       "      <th>next_song</th>\n",
       "    </tr>\n",
       "  </thead>\n",
       "  <tbody>\n",
       "    <tr>\n",
       "      <th>0</th>\n",
       "      <td>A Day In The Life</td>\n",
       "      <td>Come Together</td>\n",
       "    </tr>\n",
       "    <tr>\n",
       "      <th>43</th>\n",
       "      <td>A Hard Day's Night</td>\n",
       "      <td>Let It Be</td>\n",
       "    </tr>\n",
       "    <tr>\n",
       "      <th>55</th>\n",
       "      <td>A Saturday Club Xmas/Crimble Medley</td>\n",
       "      <td>A Day In The Life</td>\n",
       "    </tr>\n",
       "  </tbody>\n",
       "</table>\n",
       "</div>"
      ],
      "text/plain": [
       "                            song_played          next_song\n",
       "0                     A Day In The Life      Come Together\n",
       "43                   A Hard Day's Night          Let It Be\n",
       "55  A Saturday Club Xmas/Crimble Medley  A Day In The Life"
      ]
     },
     "execution_count": 187,
     "metadata": {},
     "output_type": "execute_result"
    }
   ],
   "source": [
    "# The most likely song to be played next is the song with highest value_counts:\n",
    "idx = song_1.groupby(['song_played'])['value_counts'].transform(max) == song_1['value_counts']\n",
    "song_2 = song_1[idx][['song_played', 'next_song']]\n",
    "song_2.head(3)"
   ]
  },
  {
   "cell_type": "code",
   "execution_count": 196,
   "metadata": {},
   "outputs": [
    {
     "data": {
      "text/html": [
       "<div>\n",
       "<style>\n",
       "    .dataframe thead tr:only-child th {\n",
       "        text-align: right;\n",
       "    }\n",
       "\n",
       "    .dataframe thead th {\n",
       "        text-align: left;\n",
       "    }\n",
       "\n",
       "    .dataframe tbody tr th {\n",
       "        vertical-align: top;\n",
       "    }\n",
       "</style>\n",
       "<table border=\"1\" class=\"dataframe\">\n",
       "  <thead>\n",
       "    <tr style=\"text-align: right;\">\n",
       "      <th></th>\n",
       "      <th>next_song</th>\n",
       "    </tr>\n",
       "    <tr>\n",
       "      <th>song_played</th>\n",
       "      <th></th>\n",
       "    </tr>\n",
       "  </thead>\n",
       "  <tbody>\n",
       "    <tr>\n",
       "      <th>A Day In The Life</th>\n",
       "      <td>Come Together</td>\n",
       "    </tr>\n",
       "    <tr>\n",
       "      <th>A Hard Day's Night</th>\n",
       "      <td>Let It Be</td>\n",
       "    </tr>\n",
       "    <tr>\n",
       "      <th>A Saturday Club Xmas/Crimble Medley</th>\n",
       "      <td>A Day In The Life</td>\n",
       "    </tr>\n",
       "    <tr>\n",
       "      <th>A Saturday Club Xmas/Crimble Medley</th>\n",
       "      <td>GIRL</td>\n",
       "    </tr>\n",
       "    <tr>\n",
       "      <th>ANYTIME AT ALL</th>\n",
       "      <td>Can't Buy Me Love</td>\n",
       "    </tr>\n",
       "    <tr>\n",
       "      <th>ANYTIME AT ALL</th>\n",
       "      <td>Helter Skelter</td>\n",
       "    </tr>\n",
       "    <tr>\n",
       "      <th>ANYTIME AT ALL</th>\n",
       "      <td>Here Comes The Sun</td>\n",
       "    </tr>\n",
       "    <tr>\n",
       "      <th>ANYTIME AT ALL</th>\n",
       "      <td>IN MY LIFE</td>\n",
       "    </tr>\n",
       "  </tbody>\n",
       "</table>\n",
       "</div>"
      ],
      "text/plain": [
       "                                              next_song\n",
       "song_played                                            \n",
       "A Day In The Life                         Come Together\n",
       "A Hard Day's Night                            Let It Be\n",
       "A Saturday Club Xmas/Crimble Medley   A Day In The Life\n",
       "A Saturday Club Xmas/Crimble Medley                GIRL\n",
       "ANYTIME AT ALL                        Can't Buy Me Love\n",
       "ANYTIME AT ALL                           Helter Skelter\n",
       "ANYTIME AT ALL                       Here Comes The Sun\n",
       "ANYTIME AT ALL                               IN MY LIFE"
      ]
     },
     "execution_count": 196,
     "metadata": {},
     "output_type": "execute_result"
    }
   ],
   "source": [
    "# Set song_played as index for easier searching:\n",
    "song_3 = song_2.set_index('song_played')\n",
    "song_3.head(8)"
   ]
  },
  {
   "cell_type": "code",
   "execution_count": 192,
   "metadata": {},
   "outputs": [],
   "source": [
    "# Define the function to get next song to be played. The function takes two arguments: given playing song, and the dataframe I have created above. In many cases, there are several songs\n",
    "# likely to be played after a given song, I choose the first alphabetically:\n",
    "def get_next_songs(song_played, song_3):\n",
    "    next = song_3[song_3.index == song_played]['next_song'].tolist()[0]\n",
    "    return songs"
   ]
  },
  {
   "cell_type": "code",
   "execution_count": 193,
   "metadata": {},
   "outputs": [
    {
     "data": {
      "text/plain": [
       "'Come Together'"
      ]
     },
     "execution_count": 193,
     "metadata": {},
     "output_type": "execute_result"
    }
   ],
   "source": [
    "get_next_songs('Eight Days A Week', song_3)"
   ]
  },
  {
   "cell_type": "code",
   "execution_count": 194,
   "metadata": {},
   "outputs": [
    {
     "data": {
      "text/plain": [
       "\"Can't Buy Me Love\""
      ]
     },
     "execution_count": 194,
     "metadata": {},
     "output_type": "execute_result"
    }
   ],
   "source": [
    "get_next_songs('ANYTIME AT ALL', song_3)"
   ]
  },
  {
   "cell_type": "code",
   "execution_count": null,
   "metadata": {},
   "outputs": [],
   "source": []
  }
 ],
 "metadata": {
  "kernelspec": {
   "display_name": "Python 3",
   "language": "python",
   "name": "python3"
  },
  "language_info": {
   "codemirror_mode": {
    "name": "ipython",
    "version": 3
   },
   "file_extension": ".py",
   "mimetype": "text/x-python",
   "name": "python",
   "nbconvert_exporter": "python",
   "pygments_lexer": "ipython3",
   "version": "3.6.5"
  }
 },
 "nbformat": 4,
 "nbformat_minor": 2
}
